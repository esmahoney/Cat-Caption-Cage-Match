{
  "cells": [
    {
      "cell_type": "markdown",
      "source": [],
      "metadata": {
        "id": "kTTxhirSswUf"
      }
    },
    {
      "cell_type": "code",
      "execution_count": 1,
      "metadata": {
        "colab": {
          "base_uri": "https://localhost:8080/"
        },
        "id": "yH7DRB1lkjz3",
        "outputId": "08de3abe-e500-4a34-945c-4831b7c2085e"
      },
      "outputs": [
        {
          "name": "stdout",
          "output_type": "stream",
          "text": [
            "🔑  Enter Google GenAI API key: ··········\n",
            "🔑  Enter TheCatAPI key (or hit Enter to skip): ··········\n"
          ]
        }
      ],
      "source": [
        "import os, getpass, textwrap, io, requests, random, duckdb\n",
        "from urllib.parse import urlparse\n",
        "\n",
        "# Gemini / Dev API key\n",
        "if \"GOOGLE_API_KEY\" not in os.environ:\n",
        "    os.environ[\"GOOGLE_API_KEY\"] = getpass.getpass(\"🔑  Enter Google GenAI API key: \")\n",
        "\n",
        "# TheCatAPI key is optional for public endpoints, but safer to add one.\n",
        "if \"THECATAPI_KEY\" not in os.environ:\n",
        "    os.environ[\"THECATAPI_KEY\"] = getpass.getpass(\"🔑  Enter TheCatAPI key (or hit Enter to skip): \")\n"
      ]
    },
    {
      "cell_type": "raw",
      "metadata": {
        "vscode": {
          "languageId": "raw"
        },
        "id": "IVnrelNVkjz3"
      },
      "source": [
        "## 2  Imports & helpers\n"
      ]
    },
    {
      "cell_type": "code",
      "execution_count": 4,
      "metadata": {
        "id": "7RiM9oOVkjz3"
      },
      "outputs": [],
      "source": [
        "import gradio as gr\n",
        "from google.generativeai import GenerativeModel\n",
        "from PIL import Image\n",
        "\n",
        "model   = GenerativeModel(\"gemini-2.5-pro\")    # text judge\n",
        "vision  = GenerativeModel(\"gemini-pro-vision\") # multimodal judge\n",
        "\n",
        "con = duckdb.connect()\n",
        "con.execute(\"\"\"\n",
        "CREATE TABLE IF NOT EXISTS scores (\n",
        "    round INT,\n",
        "    player VARCHAR,\n",
        "    caption VARCHAR,\n",
        "    score INT\n",
        ");\n",
        "\"\"\")\n",
        "\n",
        "# --- Image utilities ---------------------------------------------------------\n",
        "CAT_API = \"https://api.thecatapi.com/v1/images/search?size=med&mime_types=jpg\"\n",
        "\n",
        "def fetch_random_cat() -> Image.Image:\n",
        "    \"\"\"Grab a cat picture and return as PIL.Image.\"\"\"\n",
        "    headers = {\"x-api-key\": os.environ.get(\"THECATAPI_KEY\", \"\")}\n",
        "    data = requests.get(CAT_API, headers=headers, timeout=10).json()[0]\n",
        "    url = data[\"url\"]\n",
        "    img_bytes = requests.get(url, timeout=10).content\n",
        "    return Image.open(io.BytesIO(img_bytes))\n",
        "\n",
        "# --- Scoring -----------------------------------------------------------------\n",
        "judge_prompt = textwrap.dedent(\n",
        "    \"\"\"\n",
        "    You are Cat Meme Gordon Ramsay. Rate the caption below on a scale of 0–10 for humour and relevance to the picture.\n",
        "    Be ruthless. Reply **only** with the integer score. No additional text.\n",
        "    \"\"\"\n",
        ")\n",
        "\n",
        "def score_caption(image: Image.Image, caption: str) -> int:\n",
        "    \"\"\"Call Gemini to get a numeric score.\"\"\"\n",
        "    try:\n",
        "        resp = vision.generate_content([\n",
        "            image,\n",
        "            judge_prompt + \"\\\\nCAPTION: \" + caption\n",
        "        ])\n",
        "        # Extract first integer 0‑10\n",
        "        for tok in resp.text.split():\n",
        "            if tok.isdigit():\n",
        "                return max(0, min(10, int(tok)))\n",
        "    except Exception as e:\n",
        "        print(\"Gemini error:\", e)\n",
        "    return random.randint(1, 5)  # fallback so game never stalls"
      ]
    },
    {
      "cell_type": "raw",
      "metadata": {
        "vscode": {
          "languageId": "raw"
        },
        "id": "uRtHLtJOkjz4"
      },
      "source": [
        "## 3  Gradio interface\n"
      ]
    },
    {
      "cell_type": "code",
      "execution_count": 6,
      "metadata": {
        "colab": {
          "base_uri": "https://localhost:8080/",
          "height": 612
        },
        "id": "oxKqSIHukjz4",
        "outputId": "36c9c9f1-7765-40f3-920e-da11044ee655"
      },
      "outputs": [
        {
          "output_type": "stream",
          "name": "stdout",
          "text": [
            "Colab notebook detected. To show errors in colab notebook, set debug=True in launch()\n",
            "* Running on public URL: https://81451336ff1368c2c2.gradio.live\n",
            "\n",
            "This share link expires in 1 week. For free permanent hosting and GPU upgrades, run `gradio deploy` from the terminal in the working directory to deploy to Hugging Face Spaces (https://huggingface.co/spaces)\n"
          ]
        },
        {
          "output_type": "display_data",
          "data": {
            "text/plain": [
              "<IPython.core.display.HTML object>"
            ],
            "text/html": [
              "<div><iframe src=\"https://81451336ff1368c2c2.gradio.live\" width=\"100%\" height=\"500\" allow=\"autoplay; camera; microphone; clipboard-read; clipboard-write;\" frameborder=\"0\" allowfullscreen></iframe></div>"
            ]
          },
          "metadata": {}
        },
        {
          "output_type": "execute_result",
          "data": {
            "text/plain": []
          },
          "metadata": {},
          "execution_count": 6
        }
      ],
      "source": [
        "current_round = 0\n",
        "current_image = None\n",
        "\n",
        "def new_round():\n",
        "    global current_round, current_image\n",
        "    current_round += 1\n",
        "    current_image = fetch_random_cat()\n",
        "    return current_round, current_image\n",
        "\n",
        "round_num, img = new_round()\n",
        "\n",
        "def submit_caption(player_name, caption):\n",
        "    score = score_caption(current_image, caption)\n",
        "    con.execute(\n",
        "        \"INSERT INTO scores VALUES (?, ?, ?, ?)\",\n",
        "        [round_num, player_name.strip() or \"Anon\", caption.strip(), score]\n",
        "    )\n",
        "    df = con.execute(\"SELECT player, SUM(score) AS total FROM scores GROUP BY player ORDER BY total DESC\").df()\n",
        "    leaderboard_md = \"\\\\n\".join([f\"**{p}** – {s}\" for p, s in df.values]) or \"_No scores yet_\"\n",
        "    return f\"Gemini gave you **{score}/10**\", leaderboard_md\n",
        "\n",
        "with gr.Blocks(title=\"Cat-Caption Cage-Match\") as demo:\n",
        "    gr.Markdown(\"## 🐱 Cat-Caption Cage-Match\")\n",
        "    image_comp = gr.Image(value=img, label=\"Fresh feline – craft your meme!\")\n",
        "    with gr.Row():\n",
        "        player_name = gr.Textbox(label=\"Your name\", placeholder=\"e.g. Alice\")\n",
        "        caption_box = gr.Textbox(label=\"Caption\", placeholder=\"15 words max…\")\n",
        "    submit_btn = gr.Button(\"Submit 🏹\")\n",
        "    result = gr.Markdown()\n",
        "    leaderboard = gr.Markdown(\"_Scores will appear here_\", elem_id=\"board\")\n",
        "    next_btn = gr.Button(\"Next Round 🔄\")\n",
        "\n",
        "    submit_btn.click(submit_caption, inputs=[player_name, caption_box], outputs=[result, leaderboard])\n",
        "\n",
        "    def advance_round():\n",
        "        rnd, new_img = new_round()\n",
        "        caption_box.value = \"\"\n",
        "        result.value = \"\"\n",
        "        return {image_comp: new_img, leaderboard: leaderboard.value}\n",
        "\n",
        "    next_btn.click(advance_round, outputs=[image_comp, leaderboard])\n",
        "\n",
        "demo.launch(share=True)"
      ]
    },
    {
      "cell_type": "raw",
      "metadata": {
        "vscode": {
          "languageId": "raw"
        },
        "id": "a1OhhQShkjz4"
      },
      "source": [
        "## 4  Shutdown / export (optional)\n",
        "Save the scoreboard to Drive or commit to Git if you care.\n"
      ]
    },
    {
      "cell_type": "markdown",
      "metadata": {
        "id": "a58b7c27"
      },
      "source": [
        "```\n",
        "\n",
        "id: aIHWwsCqkjz2\n",
        "cell_type: code"
      ]
    }
  ],
  "metadata": {
    "language_info": {
      "name": "python"
    },
    "colab": {
      "provenance": [],
      "toc_visible": true
    },
    "kernelspec": {
      "name": "python3",
      "display_name": "Python 3"
    }
  },
  "nbformat": 4,
  "nbformat_minor": 0
}