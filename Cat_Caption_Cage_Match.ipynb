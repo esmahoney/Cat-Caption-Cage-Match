{
  "cells": [
    {
      "cell_type": "raw",
      "metadata": {
        "vscode": {
          "languageId": "raw"
        }
      },
      "source": [
        "# Cat-Caption Cage-Match 🐈‍⬛🎤\n",
        "\n",
        "A lightweight, browser-based party game that lets players write meme captions for random cat\n",
        "pictures and have them judged by Gemini 2.5 Pro.  Designed to run entirely from a single\n",
        "Google Colab notebook (or Jupytext‑synced .py file).  Keep the scope surgical: five rounds,\n",
        "one winner, then nuke the VM.\n",
        "\n",
        "---\n",
        "**Quick‑start**\n",
        "1. Run the first two cells to install deps and set your API keys.\n",
        "2. Press ▶️ on every remaining cell *once*.\n",
        "3. When the Gradio UI pops, share the public link in Zoom / Slack.\n",
        "4. Click **Next Round** → everyone types a caption → AI scores → scoreboard updates.\n",
        "\n",
        "Rage‑quit factor minimal; laughs mandatory.\n",
        "---\n"
      ]
    },
    {
      "cell_type": "raw",
      "metadata": {
        "vscode": {
          "languageId": "raw"
        }
      },
      "source": [
        "## 0  Install dependencies\n",
        "(Colab resets every 12 h, so this cell runs each session.)\n"
      ]
    },
    {
      "cell_type": "code",
      "execution_count": null,
      "metadata": {},
      "outputs": [],
      "source": [
        "!pip install --quiet google-genai-sdk==0.3.2 gradio duckdb pillow requests\n"
      ]
    },
    {
      "cell_type": "raw",
      "metadata": {
        "vscode": {
          "languageId": "raw"
        }
      },
      "source": [
        "## 1  Environment setup\n",
        "Put secrets in RAM, never in Git.\n"
      ]
    },
    {
      "cell_type": "code",
      "execution_count": null,
      "metadata": {},
      "outputs": [],
      "source": [
        "import os, getpass, textwrap, io, requests, random, duckdb\n",
        "from urllib.parse import urlparse\n",
        "\n",
        "# Gemini / Dev API key\n",
        "if \"GOOGLE_API_KEY\" not in os.environ:\n",
        "    os.environ[\"GOOGLE_API_KEY\"] = getpass.getpass(\"🔑  Enter Google GenAI API key: \")\n",
        "\n",
        "# TheCatAPI key is optional for public endpoints, but safer to add one.\n",
        "if \"THECATAPI_KEY\" not in os.environ:\n",
        "    os.environ[\"THECATAPI_KEY\"] = getpass.getpass(\"🔑  Enter TheCatAPI key (or hit Enter to skip): \")\n"
      ]
    },
    {
      "cell_type": "raw",
      "metadata": {
        "vscode": {
          "languageId": "raw"
        }
      },
      "source": [
        "## 2  Imports & helpers\n"
      ]
    },
    {
      "cell_type": "code",
      "execution_count": null,
      "metadata": {},
      "outputs": [],
      "source": [
        "import gradio as gr\n",
        "from google.genai import GenerativeModel\n",
        "from PIL import Image\n",
        "\n",
        "model   = GenerativeModel(\"gemini-2.5-pro\")    # text judge\n",
        "vision  = GenerativeModel(\"gemini-pro-vision\") # multimodal judge\n",
        "\n",
        "con = duckdb.connect()\n",
        "con.execute(\"\"\"\n",
        "CREATE TABLE IF NOT EXISTS scores (\n",
        "    round INT,\n",
        "    player VARCHAR,\n",
        "    caption VARCHAR,\n",
        "    score INT\n",
        ");\n",
        "\"\"\")\n",
        "\n",
        "# --- Image utilities ---------------------------------------------------------\n",
        "CAT_API = \"https://api.thecatapi.com/v1/images/search?size=med&mime_types=jpg\"\n",
        "\n",
        "def fetch_random_cat() -> Image.Image:\n",
        "    \"\"\"Grab a cat picture and return as PIL.Image.\"\"\"\n",
        "    headers = {\"x-api-key\": os.environ.get(\"THECATAPI_KEY\", \"\")}\n",
        "    data = requests.get(CAT_API, headers=headers, timeout=10).json()[0]\n",
        "    url = data[\"url\"]\n",
        "    img_bytes = requests.get(url, timeout=10).content\n",
        "    return Image.open(io.BytesIO(img_bytes))\n",
        "\n",
        "# --- Scoring -----------------------------------------------------------------\n",
        "judge_prompt = textwrap.dedent(\n",
        "    \"\"\"\n",
        "    You are Cat Meme Gordon Ramsay. Rate the caption below on a scale of 0–10 for humour and relevance to the picture.\n",
        "    Be ruthless. Reply **only** with the integer score. No additional text.\n",
        "    \"\"\"\n",
        ")\n",
        "\n",
        "def score_caption(image: Image.Image, caption: str) -> int:\n",
        "    \"\"\"Call Gemini to get a numeric score.\"\"\"\n",
        "    try:\n",
        "        resp = vision.generate_content([\n",
        "            image,\n",
        "            judge_prompt + \"\\\\nCAPTION: \" + caption\n",
        "        ])\n",
        "        # Extract first integer 0‑10\n",
        "        for tok in resp.text.split():\n",
        "            if tok.isdigit():\n",
        "                return max(0, min(10, int(tok)))\n",
        "    except Exception as e:\n",
        "        print(\"Gemini error:\", e)\n",
        "    return random.randint(1, 5)  # fallback so game never stalls\n"
      ]
    },
    {
      "cell_type": "raw",
      "metadata": {
        "vscode": {
          "languageId": "raw"
        }
      },
      "source": [
        "## 3  Gradio interface\n"
      ]
    },
    {
      "cell_type": "code",
      "execution_count": null,
      "metadata": {},
      "outputs": [],
      "source": [
        "current_round = 0\n",
        "current_image = None\n",
        "\n",
        "def new_round():\n",
        "    global current_round, current_image\n",
        "    current_round += 1\n",
        "    current_image = fetch_random_cat()\n",
        "    buf = io.BytesIO()\n",
        "    current_image.save(buf, format=\"JPEG\")\n",
        "    buf.seek(0)\n",
        "    return current_round, buf\n",
        "\n",
        "round_num, img_buf = new_round()\n",
        "\n",
        "def submit_caption(player_name, caption):\n",
        "    score = score_caption(current_image, caption)\n",
        "    con.execute(\n",
        "        \"INSERT INTO scores VALUES (?, ?, ?, ?)\",\n",
        "        [round_num, player_name.strip() or \"Anon\", caption.strip(), score]\n",
        "    )\n",
        "    df = con.execute(\"SELECT player, SUM(score) AS total FROM scores GROUP BY player ORDER BY total DESC\").df()\n",
        "    leaderboard_md = \"\\\\n\".join([f\"**{p}** – {s}\" for p, s in df.values]) or \"_No scores yet_\"\n",
        "    return f\"Gemini gave you **{score}/10**\", leaderboard_md\n",
        "\n",
        "with gr.Blocks(title=\"Cat-Caption Cage-Match\") as demo:\n",
        "    gr.Markdown(\"## 🐱 Cat-Caption Cage-Match\")\n",
        "    image_comp = gr.Image(value=img_buf, label=\"Fresh feline – craft your meme!\")\n",
        "    with gr.Row():\n",
        "        player_name = gr.Textbox(label=\"Your name\", placeholder=\"e.g. Alice\")\n",
        "        caption_box = gr.Textbox(label=\"Caption\", placeholder=\"15 words max…\")\n",
        "    submit_btn = gr.Button(\"Submit 🏹\")\n",
        "    result = gr.Markdown()\n",
        "    leaderboard = gr.Markdown(\"_Scores will appear here_\", elem_id=\"board\")\n",
        "    next_btn = gr.Button(\"Next Round 🔄\")\n",
        "\n",
        "    submit_btn.click(submit_caption, inputs=[player_name, caption_box], outputs=[result, leaderboard])\n",
        "\n",
        "    def advance_round():\n",
        "        rnd, buf = new_round()\n",
        "        caption_box.value = \"\"\n",
        "        result.value = \"\"\n",
        "        return {image_comp: buf, leaderboard: leaderboard.value}\n",
        "\n",
        "    next_btn.click(advance_round, outputs=[image_comp, leaderboard])\n",
        "\n",
        "demo.launch(share=True)\n"
      ]
    },
    {
      "cell_type": "raw",
      "metadata": {
        "vscode": {
          "languageId": "raw"
        }
      },
      "source": [
        "## 4  Shutdown / export (optional)\n",
        "Save the scoreboard to Drive or commit to Git if you care.\n"
      ]
    }
  ],
  "metadata": {
    "language_info": {
      "name": "python"
    }
  },
  "nbformat": 4,
  "nbformat_minor": 2
}
